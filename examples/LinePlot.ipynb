{
 "cells": [
  {
   "cell_type": "code",
   "execution_count": 1,
   "id": "94fd0f7f-a9a0-4923-bab0-205fdd1a80b0",
   "metadata": {},
   "outputs": [],
   "source": [
    "import numpy as np\n",
    "\n",
    "from plotLaTeX import LinePlot"
   ]
  },
  {
   "cell_type": "code",
   "execution_count": 2,
   "id": "de57538f-7a1b-4822-b032-68aa191f5366",
   "metadata": {},
   "outputs": [],
   "source": [
    "Lplt = LinePlot()"
   ]
  },
  {
   "cell_type": "code",
   "execution_count": 3,
   "id": "a3076317-1bdd-4459-a5b0-610f335c4291",
   "metadata": {},
   "outputs": [],
   "source": [
    "# create two signals to be plottet over x\n",
    "x = np.linspace(1, 2 * np.pi)\n",
    "y1 = np.sin(x)\n",
    "y2 = np.cos(x)"
   ]
  },
  {
   "cell_type": "code",
   "execution_count": 4,
   "id": "94545725-0c55-47f6-80e7-4f617d16a46f",
   "metadata": {},
   "outputs": [
    {
     "name": "stdout",
     "output_type": "stream",
     "text": [
      "Set x-ticks.\n",
      "Current data stack:\n",
      "         x\n",
      "0  1.00000\n",
      "1  1.10782\n",
      "2  1.21564\n",
      "3  1.32346\n",
      "4  1.43128\n"
     ]
    }
   ],
   "source": [
    "# add the x reference\n",
    "Lplt.add_xvals(x)"
   ]
  },
  {
   "cell_type": "code",
   "execution_count": 5,
   "id": "e7a6cafe-b487-4f50-81c6-c1af07b93ff4",
   "metadata": {},
   "outputs": [
    {
     "name": "stdout",
     "output_type": "stream",
     "text": [
      "Added sin with 50 entries.\n",
      "Current data stack:\n",
      "         x       sin\n",
      "0  1.00000  0.841471\n",
      "1  1.10782  0.894727\n",
      "2  1.21564  0.937592\n",
      "3  1.32346  0.969568\n",
      "4  1.43128  0.990283\n"
     ]
    }
   ],
   "source": [
    "# add the first y signal\n",
    "Lplt.add_yvals(y1, y_name=\"sin\")"
   ]
  },
  {
   "cell_type": "code",
   "execution_count": 6,
   "id": "50894ffc-91ed-4629-b40f-6b9b37240919",
   "metadata": {},
   "outputs": [
    {
     "name": "stdout",
     "output_type": "stream",
     "text": [
      "Added cos with 50 entries.\n",
      "Current data stack:\n",
      "         x       sin       cos\n",
      "0  1.00000  0.841471  0.540302\n",
      "1  1.10782  0.894727  0.446613\n",
      "2  1.21564  0.937592  0.347737\n",
      "3  1.32346  0.969568  0.244822\n",
      "4  1.43128  0.990283  0.139064\n"
     ]
    }
   ],
   "source": [
    "# add the second y signal\n",
    "Lplt.add_yvals(y2, y_name=\"cos\")"
   ]
  },
  {
   "cell_type": "code",
   "execution_count": 7,
   "id": "3dcdad57-78ce-43a0-9bb7-a25fef29cb6a",
   "metadata": {},
   "outputs": [
    {
     "name": "stdout",
     "output_type": "stream",
     "text": [
      "**Export**\n",
      "\n",
      "Current data stack:\n",
      "         x       sin       cos\n",
      "0  1.00000  0.841471  0.540302\n",
      "1  1.10782  0.894727  0.446613\n",
      "2  1.21564  0.937592  0.347737\n",
      "3  1.32346  0.969568  0.244822\n",
      "4  1.43128  0.990283  0.139064\n",
      "\n",
      "***********\n",
      "LaTeX code:\n",
      "***********\n",
      "\n",
      "\\begin{figure}[h]\n",
      "    \\centering\n",
      "    \\tikzstyle{every node}=[font=\\footnotesize]\n",
      "    \\begin{tikzpicture}\n",
      "        \\begin{axis}[\n",
      "            ylabel={y-label},\n",
      "            xlabel={x-label},\n",
      "            % xtick={0,1,...,10},\n",
      "            width=7.5cm,\n",
      "            height=3cm,\n",
      "            at={(0cm,0cm)},\n",
      "            scale only axis,\n",
      "            axis background/.style={fill=white},\n",
      "            grid=both,\n",
      "            legend columns = 2,\n",
      "            legend style={at={(0,1.05)}, legend cell align=left, align=left, draw=white!15!black, mark options={draw=none}, anchor=south west},\n",
      "         ]\n",
      "        \\addplot[] \n",
      "        \ttable[x=x,y=sin,col sep=comma]{test_results.csv};\n",
      "        \\addlegendentry{sin};\n",
      "        \\addplot[] \n",
      "        \ttable[x=x,y=cos,col sep=comma]{test_results.csv};\n",
      "        \\addlegendentry{cos};\n",
      "        \\end{axis}\n",
      "    \\end{tikzpicture}\n",
      "    \\caption{Caption of the plot.}\n",
      "    \\label{fig:Caption of the plot.}\n",
      "\\end{figure}\n"
     ]
    }
   ],
   "source": [
    "# save the data as \".csv\" and get the latex figure code\n",
    "Lplt.export(f_name=\"test_results.csv\")"
   ]
  }
 ],
 "metadata": {
  "kernelspec": {
   "display_name": "Python 3 (ipykernel)",
   "language": "python",
   "name": "python3"
  },
  "language_info": {
   "codemirror_mode": {
    "name": "ipython",
    "version": 3
   },
   "file_extension": ".py",
   "mimetype": "text/x-python",
   "name": "python",
   "nbconvert_exporter": "python",
   "pygments_lexer": "ipython3",
   "version": "3.12.2"
  }
 },
 "nbformat": 4,
 "nbformat_minor": 5
}
