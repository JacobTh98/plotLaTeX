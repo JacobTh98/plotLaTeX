{
 "cells": [
  {
   "cell_type": "markdown",
   "id": "e7646ba2-e592-4ab1-a3a8-ac5aa5e2d25a",
   "metadata": {},
   "source": [
    "# Boxplot"
   ]
  },
  {
   "cell_type": "code",
   "execution_count": 1,
   "id": "2712725f-32ca-43e0-8105-2c7f1794d925",
   "metadata": {},
   "outputs": [],
   "source": [
    "import matplotlib.pyplot as plt\n",
    "import numpy as np\n",
    "\n",
    "from plotLaTeX import BoxPlot\n",
    "\n",
    "np.random.seed(seed=42)"
   ]
  },
  {
   "cell_type": "code",
   "execution_count": 2,
   "id": "ac4adf05-3baf-40ae-8726-12da2ae52ea6",
   "metadata": {},
   "outputs": [],
   "source": [
    "apples = np.random.normal(130, 10, size=100)\n",
    "onions = np.random.normal(80, 20, size=100)\n",
    "tomatoes = np.random.normal(120, 30, size=100)\n",
    "\n",
    "fruit_weights = [\n",
    "    apples,\n",
    "    onions,\n",
    "    tomatoes,\n",
    "]\n",
    "labels = [\"apples\", \"onions\", \"tomatoes\"]"
   ]
  },
  {
   "cell_type": "code",
   "execution_count": 3,
   "id": "294f0277-cafe-4624-acf9-85e7a2e73e0d",
   "metadata": {},
   "outputs": [
    {
     "data": {
      "image/png": "[encoded data removed]",
      "text/plain": [
       "<Figure size 750x300 with 1 Axes>"
      ]
     },
     "metadata": {},
     "output_type": "display_data"
    }
   ],
   "source": [
    "plt.figure(figsize=(7.5, 3))\n",
    "plt.boxplot(fruit_weights, patch_artist=True, tick_labels=labels)\n",
    "plt.xlabel(\"Ingredient\")\n",
    "plt.ylabel(\"Weight\")\n",
    "plt.grid(alpha=0.3)\n",
    "plt.show()"
   ]
  },
  {
   "cell_type": "code",
   "execution_count": 4,
   "id": "ca236205-8333-4a73-a4b7-c03ad57ec1c9",
   "metadata": {},
   "outputs": [],
   "source": [
    "Bplt = BoxPlot()"
   ]
  },
  {
   "cell_type": "code",
   "execution_count": 5,
   "id": "14cb962e-759d-4fe5-8789-3916f9f3cb80",
   "metadata": {},
   "outputs": [
    {
     "name": "stdout",
     "output_type": "stream",
     "text": [
      "apples\n",
      "{'median': np.float64(128.73043708220285), 'lower_quartile': np.float64(123.99094329503548), 'upper_quartile': np.float64(134.05952052012063), 'lower_whisker': np.float64(110.12431085399108), 'upper_whisker': np.float64(148.52278184508938)}\n"
     ]
    }
   ],
   "source": [
    "Bplt.add_data(apples, \"apples\")"
   ]
  },
  {
   "cell_type": "code",
   "execution_count": 6,
   "id": "15e64c0a-75fe-40eb-a184-557ddb0c63b6",
   "metadata": {},
   "outputs": [
    {
     "name": "stdout",
     "output_type": "stream",
     "text": [
      "apples\n",
      "{'median': np.float64(128.73043708220285), 'lower_quartile': np.float64(123.99094329503548), 'upper_quartile': np.float64(134.05952052012063), 'lower_whisker': np.float64(110.12431085399108), 'upper_whisker': np.float64(148.52278184508938)}\n",
      "onions\n",
      "{'median': np.float64(81.68214339893669), 'lower_quartile': np.float64(63.886789536848525), 'upper_quartile': np.float64(90.76340895325481), 'lower_whisker': np.float64(41.62457569401917), 'upper_whisker': np.float64(129.26484224970574)}\n"
     ]
    }
   ],
   "source": [
    "Bplt.add_data(onions, \"onions\")"
   ]
  },
  {
   "cell_type": "code",
   "execution_count": 7,
   "id": "e8ef18a8-ca2b-4cbf-a69b-6dbed632f90c",
   "metadata": {},
   "outputs": [
    {
     "name": "stdout",
     "output_type": "stream",
     "text": [
      "apples\n",
      "{'median': np.float64(128.73043708220285), 'lower_quartile': np.float64(123.99094329503548), 'upper_quartile': np.float64(134.05952052012063), 'lower_whisker': np.float64(110.12431085399108), 'upper_whisker': np.float64(148.52278184508938)}\n",
      "onions\n",
      "{'median': np.float64(81.68214339893669), 'lower_quartile': np.float64(63.886789536848525), 'upper_quartile': np.float64(90.76340895325481), 'lower_whisker': np.float64(41.62457569401917), 'upper_whisker': np.float64(129.26484224970574)}\n",
      "tomatoes\n",
      "{'median': np.float64(122.93087226956357), 'lower_quartile': np.float64(100.33669378132858), 'upper_quartile': np.float64(141.13312343712607), 'lower_whisker': np.float64(59.24572240027179), 'upper_whisker': np.float64(189.43975700020525)}\n"
     ]
    }
   ],
   "source": [
    "Bplt.add_data(tomatoes, \"tomatoes\")"
   ]
  },
  {
   "cell_type": "code",
   "execution_count": 8,
   "id": "c4a9809a-55a8-4e46-b7de-761350ebc663",
   "metadata": {},
   "outputs": [],
   "source": [
    "Bplt.add_axis_labels(xlabel=\"Ingredients\", ylabel=\"Weight\")"
   ]
  },
  {
   "cell_type": "code",
   "execution_count": 9,
   "id": "84705902-e046-4b2b-84bd-b31afad96fe5",
   "metadata": {},
   "outputs": [
    {
     "name": "stdout",
     "output_type": "stream",
     "text": [
      "\tDon´t forget to import the packages:\n",
      "\n",
      "\\usepackage{graphicx}\n",
      "\\usepackage{tikz,pgfplots}\n",
      "\\usepgfplotslibrary{statistics}\n",
      "\n",
      "*\t*********\n",
      "\n",
      "\\begin{figure}[h]\n",
      "    \\centering\n",
      "    \\tikzstyle{every node}=[font=\\footnotesize]\n",
      "    \\begin{tikzpicture}\n",
      "        \\begin{axis}[\n",
      "            ylabel=Weight,\n",
      "            xlabel=Ingredients,\n",
      "            xtick={ 1, 2, 3 },\n",
      "            xticklabels={ apples, onions, tomatoes },\n",
      "            width=7.5cm,\n",
      "            height=3cm,\n",
      "            boxplot/draw direction = y,\n",
      "            at={(0cm,0cm)},\n",
      "            scale only axis,\n",
      "            axis background/.style={fill=white},\n",
      "            grid=both,\n",
      "]\n",
      "            \\addplot[\n",
      "            fill,\n",
      "            fill opacity=0.7,\n",
      "            boxplot prepared={\n",
      "                median=128.73043708220285,\n",
      "                upper quartile=134.05952052012063,\n",
      "                lower quartile=123.99094329503548,\n",
      "                upper whisker=148.52278184508938,\n",
      "                lower whisker=110.12431085399108\n",
      "                            },\n",
      "        ] coordinates {};\n",
      "            \\addplot[\n",
      "            fill,\n",
      "            fill opacity=0.7,\n",
      "            boxplot prepared={\n",
      "                median=81.68214339893669,\n",
      "                upper quartile=90.76340895325481,\n",
      "                lower quartile=63.886789536848525,\n",
      "                upper whisker=129.26484224970574,\n",
      "                lower whisker=41.62457569401917\n",
      "                            },\n",
      "        ] coordinates {};\n",
      "            \\addplot[\n",
      "            fill,\n",
      "            fill opacity=0.7,\n",
      "            boxplot prepared={\n",
      "                median=122.93087226956357,\n",
      "                upper quartile=141.13312343712607,\n",
      "                lower quartile=100.33669378132858,\n",
      "                upper whisker=189.43975700020525,\n",
      "                lower whisker=59.24572240027179\n",
      "                            },\n",
      "        ] coordinates {};\n",
      "        \\end{axis}\n",
      "    \\end{tikzpicture}\n",
      "    \\caption{Caption of the boxplot.}\n",
      "    \\label{fig:Caption of the boxplot.}\n",
      "\\end{figure}\n"
     ]
    }
   ],
   "source": [
    "Bplt.LaTeXcode()"
   ]
  },
  {
   "cell_type": "markdown",
   "id": "a158b8e7-3747-427c-bbfe-2bbf3be0b274",
   "metadata": {},
   "source": [
    "___"
   ]
  }
 ],
 "metadata": {
  "kernelspec": {
   "display_name": "Python 3 (ipykernel)",
   "language": "python",
   "name": "python3"
  },
  "language_info": {
   "codemirror_mode": {
    "name": "ipython",
    "version": 3
   },
   "file_extension": ".py",
   "mimetype": "text/x-python",
   "name": "python",
   "nbconvert_exporter": "python",
   "pygments_lexer": "ipython3",
   "version": "3.12.2"
  }
 },
 "nbformat": 4,
 "nbformat_minor": 5
}
