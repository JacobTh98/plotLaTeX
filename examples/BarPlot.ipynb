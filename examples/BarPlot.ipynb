{
 "cells": [
  {
   "cell_type": "markdown",
   "id": "0e5d95f5-b33e-4d68-8abd-9a8a762e4d37",
   "metadata": {},
   "source": [
    "# Bar plots"
   ]
  },
  {
   "cell_type": "code",
   "execution_count": 1,
   "id": "43f2ed36-7d0f-41dc-b199-2991b366cdad",
   "metadata": {},
   "outputs": [],
   "source": [
    "import matplotlib.pyplot as plt\n",
    "import numpy as np\n",
    "import pandas as pd"
   ]
  },
  {
   "cell_type": "markdown",
   "id": "3757fb5d-c0fa-4a84-b7d4-659e184aa65b",
   "metadata": {},
   "source": [
    "## Barplot"
   ]
  },
  {
   "cell_type": "code",
   "execution_count": 2,
   "id": "eccc6618-bdcd-4c16-99ed-56c45e548b9c",
   "metadata": {},
   "outputs": [],
   "source": [
    "from plotLaTeX import Barplot"
   ]
  },
  {
   "cell_type": "code",
   "execution_count": 3,
   "id": "3818906f-0d4e-473f-92e3-1a814c024319",
   "metadata": {},
   "outputs": [],
   "source": [
    "# create data\n",
    "fruits = [\"Apples\", \"Bananas\", \"Cherries\"]\n",
    "sales = [345, 234, 512]"
   ]
  },
  {
   "cell_type": "code",
   "execution_count": 4,
   "id": "ed6738e9-ef28-4d8f-8942-916df31ca3a1",
   "metadata": {},
   "outputs": [
    {
     "data": {
      "image/png": "[encoded data removed]",
      "text/plain": [
       "<Figure size 750x300 with 1 Axes>"
      ]
     },
     "metadata": {},
     "output_type": "display_data"
    }
   ],
   "source": [
    "plt.figure(figsize=(7.5, 3))\n",
    "plt.bar(fruits, sales, width=0.3)\n",
    "plt.xlabel(\"Fruits\")\n",
    "plt.ylabel(\"Sales\")\n",
    "plt.grid(alpha=0.3)\n",
    "plt.tight_layout()\n",
    "plt.show()"
   ]
  },
  {
   "cell_type": "code",
   "execution_count": 5,
   "id": "d017fd28-cf1f-455f-8d98-0dc749f00db7",
   "metadata": {},
   "outputs": [
    {
     "data": {
      "text/html": [
       "<div>\n",
       "<style scoped>\n",
       "    .dataframe tbody tr th:only-of-type {\n",
       "        vertical-align: middle;\n",
       "    }\n",
       "\n",
       "    .dataframe tbody tr th {\n",
       "        vertical-align: top;\n",
       "    }\n",
       "\n",
       "    .dataframe thead th {\n",
       "        text-align: right;\n",
       "    }\n",
       "</style>\n",
       "<table border=\"1\" class=\"dataframe\">\n",
       "  <thead>\n",
       "    <tr style=\"text-align: right;\">\n",
       "      <th></th>\n",
       "      <th>categories</th>\n",
       "      <th>sales</th>\n",
       "    </tr>\n",
       "  </thead>\n",
       "  <tbody>\n",
       "    <tr>\n",
       "      <th>0</th>\n",
       "      <td>Apples</td>\n",
       "      <td>345</td>\n",
       "    </tr>\n",
       "    <tr>\n",
       "      <th>1</th>\n",
       "      <td>Bananas</td>\n",
       "      <td>234</td>\n",
       "    </tr>\n",
       "    <tr>\n",
       "      <th>2</th>\n",
       "      <td>Cherries</td>\n",
       "      <td>512</td>\n",
       "    </tr>\n",
       "  </tbody>\n",
       "</table>\n",
       "</div>"
      ],
      "text/plain": [
       "  categories  sales\n",
       "0     Apples    345\n",
       "1    Bananas    234\n",
       "2   Cherries    512"
      ]
     },
     "execution_count": 5,
     "metadata": {},
     "output_type": "execute_result"
    }
   ],
   "source": [
    "# create a dataframe\n",
    "data = {\"categories\": fruits, \"sales\": sales}\n",
    "\n",
    "df = pd.DataFrame(data)\n",
    "df"
   ]
  },
  {
   "cell_type": "code",
   "execution_count": 6,
   "id": "35278478-2171-40d9-b6e1-c788f9961444",
   "metadata": {},
   "outputs": [
    {
     "name": "stdout",
     "output_type": "stream",
     "text": [
      "  categories  sales\n",
      "0     Apples    345\n",
      "1    Bananas    234\n",
      "2   Cherries    512\n"
     ]
    }
   ],
   "source": [
    "barplot = Barplot(df)"
   ]
  },
  {
   "cell_type": "code",
   "execution_count": 7,
   "id": "2c4196d3-f8ea-47c0-833c-3a011b628bec",
   "metadata": {},
   "outputs": [],
   "source": [
    "barplot.add_axis_labels(xlabel=\"Fruits\", ylabel=\"Sales\")"
   ]
  },
  {
   "cell_type": "code",
   "execution_count": 8,
   "id": "b2fcc422-e511-4491-9edf-dfe5482a178b",
   "metadata": {},
   "outputs": [
    {
     "name": "stdout",
     "output_type": "stream",
     "text": [
      "\tDon´t forget to import the packages:\n",
      "\n",
      "\\usepackage{graphicx}\n",
      "\\usepackage{tikz,pgfplots}\n",
      "\\usepgfplotslibrary{statistics}\n",
      "\n",
      "*\t*********\n",
      "\n",
      "\\begin{figure}[ht]\n",
      "    \\centering\n",
      "    \\tikzstyle{every node}=[font=\\footnotesize]\n",
      "    \\begin{tikzpicture}\n",
      "        \\begin{axis}[\n",
      "            ylabel=Sales,\n",
      "            xlabel=Fruits,\n",
      "            xticklabels={Apples,Bananas,Cherries},\n",
      "            ybar,\n",
      "            bar width=0.5cm,\n",
      "            xtick=data,\n",
      "            width=7.5cm,\n",
      "            height=3cm,\n",
      "            at={(0cm,0cm)},\n",
      "            scale only axis,\n",
      "            axis background/.style={fill=white},\n",
      "            grid=both,\n",
      "            legend columns = 1,\n",
      "            legend style={at={(1,1.05)}, legend cell align=left, align=left, draw=white!15!black, mark options={draw=none}, anchor=south east},\n",
      "        ]\n",
      "\n",
      "        \\addplot[fill=black!70!black,opacity=0.7]  \n",
      "        coordinates {(1,345) (2,234) (3,512)};\n",
      "\n",
      "        \\end{axis}\n",
      "    \\end{tikzpicture}\n",
      "    \\caption{Caption of the default barchart.}\n",
      "    \\label{fig:Caption of the default barchart.}\n",
      "\\end{figure}\n"
     ]
    }
   ],
   "source": [
    "barplot.LaTeXcode()"
   ]
  },
  {
   "cell_type": "markdown",
   "id": "55131a72-28d4-4ab7-bfa3-93471bd6c02a",
   "metadata": {},
   "source": [
    "## Multiple bar plots"
   ]
  },
  {
   "cell_type": "code",
   "execution_count": 9,
   "id": "26727340-5cda-429b-8d65-d7810a8271e9",
   "metadata": {},
   "outputs": [],
   "source": [
    "from plotLaTeX import MultipleBars"
   ]
  },
  {
   "cell_type": "code",
   "execution_count": 10,
   "id": "a12bb314-a8b5-4f28-9328-5f7b6ef3e414",
   "metadata": {},
   "outputs": [],
   "source": [
    "# create data\n",
    "categories = [\"Apples\", \"Bananas\", \"Cherries\"]\n",
    "sales = {\n",
    "    \"2022\": [345, 234, 512],\n",
    "    \"2023\": [420, 304, 412],\n",
    "    \"2024\": [501, 324, 242],\n",
    "}"
   ]
  },
  {
   "cell_type": "code",
   "execution_count": 11,
   "id": "294d1daf-aa8a-4cb4-aa37-d764b228f285",
   "metadata": {},
   "outputs": [
    {
     "data": {
      "image/png": "[encoded data removed]",
      "text/plain": [
       "<Figure size 750x300 with 1 Axes>"
      ]
     },
     "metadata": {},
     "output_type": "display_data"
    }
   ],
   "source": [
    "bar_width = 0.15\n",
    "\n",
    "plt.figure(figsize=(7.5, 3))\n",
    "x = np.arange(len(categories))\n",
    "for i, (label, value) in enumerate(sales.items()):\n",
    "    plt.bar(\n",
    "        x + i * bar_width - ((len(sales) - 1) * bar_width / 2),\n",
    "        value,\n",
    "        width=bar_width,\n",
    "        label=label,\n",
    "    )\n",
    "plt.xlabel(\"Fruits\")\n",
    "plt.ylabel(\"Sales\")\n",
    "plt.xticks(x, categories)  # Set x-ticks to fruit names\n",
    "plt.legend()\n",
    "plt.grid(alpha=0.3)\n",
    "plt.tight_layout()\n",
    "plt.show()"
   ]
  },
  {
   "cell_type": "code",
   "execution_count": 12,
   "id": "e3d04b62-13c5-410c-af2f-bf58cd1276f5",
   "metadata": {},
   "outputs": [],
   "source": [
    "m_bar = MultipleBars(categories=categories, bars=sales)"
   ]
  },
  {
   "cell_type": "code",
   "execution_count": 13,
   "id": "e36d8b29-46e3-4cc6-b5af-ad80f0d256f7",
   "metadata": {},
   "outputs": [],
   "source": [
    "m_bar.add_axis_labels(xlabel=\"Fruits\", ylabel=\"Sales\")"
   ]
  },
  {
   "cell_type": "code",
   "execution_count": 14,
   "id": "ed08dbd0-6858-44f9-aa73-ce304c145751",
   "metadata": {},
   "outputs": [
    {
     "name": "stdout",
     "output_type": "stream",
     "text": [
      "\\begin{figure}[ht]\n",
      "\\centering\n",
      "\\tikzstyle{every node}=[font=\\footnotesize]\n",
      "\\begin{tikzpicture}\n",
      "    \\begin{axis}[\n",
      "            ylabel=Sales,\n",
      "            xlabel=Fruits,\n",
      "            xtick={ 0, 1, 2 },\n",
      "            xticklabels={ Apples, Bananas, Cherries },\n",
      "            ybar,\n",
      "            bar width=0.3cm,\n",
      "            xtick=data,\n",
      "            width=7.5cm,\n",
      "            height=3cm,\n",
      "            at={(0cm,0cm)},\n",
      "            scale only axis,\n",
      "            axis background/.style={fill=white},\n",
      "            grid=both,\n",
      "            legend columns = 3,\n",
      "            legend style={at={(1,1.05)}, legend cell align=left, align=left, draw=white!15!black, mark options={draw=none}, anchor=south east},\n",
      "    ]\n",
      "        \\addplot[fill=black!70!black,opacity=0.7]\n",
      "            coordinates {(1,345) (2,234) (3,512)};\n",
      "        \\addlegendentry{2022};\n",
      "\n",
      "        \\addplot[fill=blue!70!black,opacity=0.7]\n",
      "            coordinates {(1,420) (2,304) (3,412)};\n",
      "        \\addlegendentry{2023};\n",
      "\n",
      "        \\addplot[fill=brown!70!black,opacity=0.7]\n",
      "            coordinates {(1,501) (2,324) (3,242)};\n",
      "        \\addlegendentry{2024};\n",
      "\n",
      "\n",
      "    \\end{axis}\n",
      "\\end{tikzpicture}\n",
      "    \\caption{Caption of the barchart.}\n",
      "    \\label{fig:Caption of the barchart.}\n",
      "\\end{figure}\n"
     ]
    }
   ],
   "source": [
    "m_bar.LaTeXcode()"
   ]
  },
  {
   "cell_type": "markdown",
   "id": "02d1bfb9-f246-4465-bb0a-8d68db56d452",
   "metadata": {},
   "source": [
    "## Stacked bar plots"
   ]
  },
  {
   "cell_type": "code",
   "execution_count": 15,
   "id": "e9c0d457-9f93-488b-9911-bc7201343778",
   "metadata": {},
   "outputs": [
    {
     "data": {
      "image/png": "[encoded data removed]",
      "text/plain": [
       "<Figure size 750x300 with 1 Axes>"
      ]
     },
     "metadata": {},
     "output_type": "display_data"
    }
   ],
   "source": [
    "bar_width = 0.15\n",
    "\n",
    "plt.figure(figsize=(7.5, 3))\n",
    "x = np.arange(len(categories))\n",
    "for i, (label, value) in enumerate(sales.items()):\n",
    "    plt.bar(x, value, width=bar_width, label=label, alpha=0.4)\n",
    "plt.xlabel(\"Fruits\")\n",
    "plt.ylabel(\"Sales\")\n",
    "plt.xticks(x, fruits)  # Set x-ticks to fruit names\n",
    "plt.legend()\n",
    "plt.grid(alpha=0.3)\n",
    "plt.tight_layout()\n",
    "plt.show()"
   ]
  },
  {
   "cell_type": "code",
   "execution_count": 16,
   "id": "dd5bd7f6-ee9d-42c2-b54a-c128f8c25bd1",
   "metadata": {},
   "outputs": [],
   "source": [
    "# just change the mode to stacked\n",
    "m_bar = MultipleBars(categories=categories, bars=sales, mode=\"stacked\")"
   ]
  },
  {
   "cell_type": "code",
   "execution_count": 17,
   "id": "9f887a77-988c-43a6-b125-205d9b387cd8",
   "metadata": {},
   "outputs": [],
   "source": [
    "m_bar.add_axis_labels(xlabel=\"Fruits\", ylabel=\"Sales\")"
   ]
  },
  {
   "cell_type": "code",
   "execution_count": 18,
   "id": "d3e5cbc1-3e9c-4ca0-945e-21162a55c249",
   "metadata": {},
   "outputs": [
    {
     "name": "stdout",
     "output_type": "stream",
     "text": [
      "\\begin{figure}[ht]\n",
      "\\centering\n",
      "\\tikzstyle{every node}=[font=\\footnotesize]\n",
      "\\begin{tikzpicture}\n",
      "    \\begin{axis}[\n",
      "            ylabel=Sales,\n",
      "            xlabel=Fruits,\n",
      "            xtick={ 0, 1, 2 },\n",
      "            xticklabels={ Apples, Bananas, Cherries },\n",
      "            ybar stacked,\n",
      "            bar width=0.3cm,\n",
      "            xtick=data,\n",
      "            width=7.5cm,\n",
      "            height=3cm,\n",
      "            at={(0cm,0cm)},\n",
      "            scale only axis,\n",
      "            axis background/.style={fill=white},\n",
      "            grid=both,\n",
      "            legend columns = 3,\n",
      "            legend style={at={(1,1.05)}, legend cell align=left, align=left, draw=white!15!black, mark options={draw=none}, anchor=south east},\n",
      "    ]\n",
      "        \\addplot[fill=black!70!black,opacity=0.7]\n",
      "            coordinates {(1,345) (2,234) (3,512)};\n",
      "        \\addlegendentry{2022};\n",
      "\n",
      "        \\addplot[fill=blue!70!black,opacity=0.7]\n",
      "            coordinates {(1,420) (2,304) (3,412)};\n",
      "        \\addlegendentry{2023};\n",
      "\n",
      "        \\addplot[fill=brown!70!black,opacity=0.7]\n",
      "            coordinates {(1,501) (2,324) (3,242)};\n",
      "        \\addlegendentry{2024};\n",
      "\n",
      "\n",
      "    \\end{axis}\n",
      "\\end{tikzpicture}\n",
      "    \\caption{Caption of the barchart.}\n",
      "    \\label{fig:Caption of the barchart.}\n",
      "\\end{figure}\n"
     ]
    }
   ],
   "source": [
    "m_bar.LaTeXcode()"
   ]
  },
  {
   "cell_type": "markdown",
   "id": "1e78a199-71cd-4281-afce-56812b156c98",
   "metadata": {},
   "source": [
    "___"
   ]
  }
 ],
 "metadata": {
  "kernelspec": {
   "display_name": "Python 3 (ipykernel)",
   "language": "python",
   "name": "python3"
  },
  "language_info": {
   "codemirror_mode": {
    "name": "ipython",
    "version": 3
   },
   "file_extension": ".py",
   "mimetype": "text/x-python",
   "name": "python",
   "nbconvert_exporter": "python",
   "pygments_lexer": "ipython3",
   "version": "3.12.2"
  }
 },
 "nbformat": 4,
 "nbformat_minor": 5
}
