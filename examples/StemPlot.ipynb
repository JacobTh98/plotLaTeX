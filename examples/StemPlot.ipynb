{
 "cells": [
  {
   "cell_type": "markdown",
   "id": "0091951b-a9f9-4e50-81b4-c28ff867dd7c",
   "metadata": {},
   "source": [
    "# Stemplot"
   ]
  },
  {
   "cell_type": "code",
   "execution_count": 1,
   "id": "9fb787a5-e635-420f-ab72-666965da3f16",
   "metadata": {},
   "outputs": [],
   "source": [
    "import matplotlib.pyplot as plt\n",
    "import numpy as np\n",
    "\n",
    "from plotLaTeX import StemPlot"
   ]
  },
  {
   "cell_type": "code",
   "execution_count": 2,
   "id": "4a41b718-7111-4381-bbfe-6c3e55cb0eb3",
   "metadata": {},
   "outputs": [],
   "source": [
    "x = np.arange(5)\n",
    "y = np.array([2, 1, 1, 2, -1])"
   ]
  },
  {
   "cell_type": "code",
   "execution_count": 3,
   "id": "0104ba23-1844-4965-9421-a5487a16c4b6",
   "metadata": {},
   "outputs": [
    {
     "data": {
      "image/png": "[encoded data removed]",
      "text/plain": [
       "<Figure size 350x300 with 1 Axes>"
      ]
     },
     "metadata": {},
     "output_type": "display_data"
    }
   ],
   "source": [
    "plt.figure(figsize=(3.5, 3))\n",
    "plt.stem(x, y)\n",
    "plt.ylabel(\"y[k]\")\n",
    "plt.xlabel(\"k\")\n",
    "plt.grid(alpha=0.3)\n",
    "plt.show()"
   ]
  },
  {
   "cell_type": "code",
   "execution_count": 4,
   "id": "0215d38a-9fc9-4210-bff1-c42c665cb304",
   "metadata": {},
   "outputs": [
    {
     "name": "stdout",
     "output_type": "stream",
     "text": [
      "\\begin{figure}\n",
      "% definition of stem style\n",
      "\\tikzstyle{stem}=[ycomb,mark=*,mark size=6\\pgflinewidth,color=blue,thick]\n",
      "\n",
      "    \\centering\n",
      "    \\tikzstyle{every node}=[font=\\footnotesize]\n",
      "    \\begin{tikzpicture}\n",
      "        \\begin{axis}[\n",
      "            xlabel={$k$},\n",
      "            ylabel={$y[k]$},\n",
      "            width=7.5cm,\n",
      "            height=3cm,\n",
      "            at={(0cm,0cm)},\n",
      "            scale only axis,\n",
      "            axis background/.style={fill=white},\n",
      "            grid=both,\n",
      "            ]\n",
      "            \\addplot[stem] plot coordinates{(0,2) (1,1) (2,1) (3,2) (4,-1)};\n",
      "        \\end{axis}\n",
      "    \\end{tikzpicture}\n",
      "    \\caption{Stem plot caption.}\n",
      "    \\label{fig:Stem plot caption.}\n",
      "\\end{figure}\n"
     ]
    }
   ],
   "source": [
    "# default plot style\n",
    "stem = StemPlot()\n",
    "stem.add_xy_vals(x_vals=x, y_vals=y)\n",
    "stem.add_xy_labels(x_label=\"$k$\", y_label=\"$y[k]$\")\n",
    "stem.LaTeXcode()"
   ]
  },
  {
   "cell_type": "code",
   "execution_count": 5,
   "id": "125c1011-ecaa-47e2-8338-380be1c44ce5",
   "metadata": {},
   "outputs": [
    {
     "name": "stdout",
     "output_type": "stream",
     "text": [
      "\\begin{figure}\n",
      "% definition of stem style\n",
      "\\tikzstyle{stem}=[ycomb,mark=*,mark size=6\\pgflinewidth,color=blue,thick]\n",
      "\n",
      "    \\centering\n",
      "    \\tikzstyle{every node}=[font=\\footnotesize]\n",
      "    \\begin{tikzpicture}\n",
      "        \\begin{axis}[\n",
      "            xlabel={$k$},\n",
      "            ylabel={$x[k]$},\n",
      "            axis lines=center,\n",
      "            xlabel style=right,\n",
      "            ylabel style=left,\n",
      "            width=7.5cm,\n",
      "            height=4cm,\n",
      "            ymin=-1.5,\n",
      "            ymax=3.0,\n",
      "            xmin=-0.5,\n",
      "            xmax=4.5,\n",
      "            xtick={0,1,2,3,4},\n",
      "            ytick={-1,0,1},\n",
      "            grid=both,\n",
      "            grid style={dashed,gray!30},\n",
      "            axis line style={thick,->},\n",
      "            ]\n",
      "            \\addplot[stem] plot coordinates{(0,2) (1,1) (2,1) (3,2) (4,-1)};\n",
      "        \\end{axis}\n",
      "    \\end{tikzpicture}\n",
      "    \\caption{Stem plot caption.}\n",
      "    \\label{fig:Stem plot caption.}\n",
      "\\end{figure}\n"
     ]
    }
   ],
   "source": [
    "# beautiful plot style\n",
    "stem = StemPlot(layout=\"beautiful\")\n",
    "stem.add_xy_vals(x_vals=x, y_vals=y)\n",
    "stem.LaTeXcode()"
   ]
  },
  {
   "cell_type": "markdown",
   "id": "00acace0-1d03-4058-a480-bb6622c7f0f2",
   "metadata": {},
   "source": [
    "___"
   ]
  }
 ],
 "metadata": {
  "kernelspec": {
   "display_name": "Python 3 (ipykernel)",
   "language": "python",
   "name": "python3"
  },
  "language_info": {
   "codemirror_mode": {
    "name": "ipython",
    "version": 3
   },
   "file_extension": ".py",
   "mimetype": "text/x-python",
   "name": "python",
   "nbconvert_exporter": "python",
   "pygments_lexer": "ipython3",
   "version": "3.12.2"
  }
 },
 "nbformat": 4,
 "nbformat_minor": 5
}
